{
 "cells": [
  {
   "cell_type": "markdown",
   "metadata": {},
   "source": [
    "### Installation"
   ]
  },
  {
   "cell_type": "markdown",
   "metadata": {},
   "source": [
    "please fist create the following conda env, then using it in this notebook (realod window if it does not appear in the list)\n",
    "    \n",
    "    ```bash\n",
    "$ conda create -n tvl python=3.8 -y \n",
    "\n",
    "$ conda activate timeeval\n",
    "\n",
    "The following code will interact only with the jupyter kernal, if you encounter please do the following in your prompt but make sure you are in the same conda env"
   ]
  },
  {
   "cell_type": "markdown",
   "metadata": {},
   "source": [
    "### Installation of GutenTag\n"
   ]
  },
  {
   "cell_type": "markdown",
   "metadata": {},
   "source": [
    "\n",
    "first we proceed with gutenTAG, the Pypi version is broken, so we will install it from the github repo"
   ]
  },
  {
   "cell_type": "code",
   "execution_count": 6,
   "metadata": {},
   "outputs": [
    {
     "name": "stdout",
     "output_type": "stream",
     "text": [
      "Collecting PyYAML\n",
      "  Using cached PyYAML-6.0.1-cp38-cp38-macosx_11_0_arm64.whl\n",
      "Installing collected packages: PyYAML\n",
      "Successfully installed PyYAML-6.0.1\n",
      "Note: you may need to restart the kernel to use updated packages.\n"
     ]
    }
   ],
   "source": [
    "pip install PyYAML"
   ]
  },
  {
   "cell_type": "code",
   "execution_count": 9,
   "metadata": {},
   "outputs": [
    {
     "name": "stdout",
     "output_type": "stream",
     "text": [
      "Cloning into 'GutenTAG'...\n",
      "remote: Enumerating objects: 2375, done.\u001b[K\n",
      "remote: Counting objects: 100% (477/477), done.\u001b[K\n",
      "remote: Compressing objects: 100% (257/257), done.\u001b[K\n",
      "remote: Total 2375 (delta 328), reused 315 (delta 219), pack-reused 1898\u001b[K\n",
      "Receiving objects: 100% (2375/2375), 1.74 MiB | 2.05 MiB/s, done.\n",
      "Resolving deltas: 100% (1532/1532), done.\n"
     ]
    }
   ],
   "source": [
    "!git clone https://github.com/TimeEval/GutenTAG.git"
   ]
  },
  {
   "cell_type": "code",
   "execution_count": 13,
   "metadata": {},
   "outputs": [
    {
     "name": "stdout",
     "output_type": "stream",
     "text": [
      "/Users/wadimoughanim/Documents/education/Master_MVA/last_mlts_proj/GutenTAG\n"
     ]
    }
   ],
   "source": [
    "cd GutenTAG"
   ]
  },
  {
   "cell_type": "code",
   "execution_count": 14,
   "metadata": {},
   "outputs": [
    {
     "name": "stdout",
     "output_type": "stream",
     "text": [
      "Obtaining file:///Users/wadimoughanim/Documents/education/Master_MVA/last_mlts_proj/GutenTAG\n",
      "  Preparing metadata (setup.py) ... \u001b[?25ldone\n",
      "\u001b[?25hRequirement already satisfied: numpy>=1.21.6 in /Users/wadimoughanim/miniconda3/envs/tvl/lib/python3.8/site-packages (from timeeval-gutenTAG==1.4.0) (1.24.4)\n",
      "Collecting pandas>=1.3.0 (from timeeval-gutenTAG==1.4.0)\n",
      "  Using cached pandas-2.0.3-cp38-cp38-macosx_11_0_arm64.whl.metadata (18 kB)\n",
      "Collecting scipy>=1.7.3 (from timeeval-gutenTAG==1.4.0)\n",
      "  Using cached scipy-1.10.1-cp38-cp38-macosx_12_0_arm64.whl (28.8 MB)\n",
      "Collecting scikit-learn>=1.0.0 (from timeeval-gutenTAG==1.4.0)\n",
      "  Using cached scikit_learn-1.3.2-cp38-cp38-macosx_12_0_arm64.whl.metadata (11 kB)\n",
      "Collecting matplotlib>=3.5.0 (from timeeval-gutenTAG==1.4.0)\n",
      "  Using cached matplotlib-3.7.4-cp38-cp38-macosx_11_0_arm64.whl.metadata (5.7 kB)\n",
      "Requirement already satisfied: pyyaml>=6.0 in /Users/wadimoughanim/miniconda3/envs/tvl/lib/python3.8/site-packages (from timeeval-gutenTAG==1.4.0) (6.0.1)\n",
      "Collecting tqdm>=4.54.0 (from timeeval-gutenTAG==1.4.0)\n",
      "  Using cached tqdm-4.66.1-py3-none-any.whl.metadata (57 kB)\n",
      "Collecting joblib>=1.2.0 (from timeeval-gutenTAG==1.4.0)\n",
      "  Using cached joblib-1.3.2-py3-none-any.whl.metadata (5.4 kB)\n",
      "Collecting gitpython>=3.1.0 (from timeeval-gutenTAG==1.4.0)\n",
      "  Using cached GitPython-3.1.40-py3-none-any.whl.metadata (12 kB)\n",
      "Collecting neurokit2==0.1.2 (from timeeval-gutenTAG==1.4.0)\n",
      "  Using cached neurokit2-0.1.2-py2.py3-none-any.whl (1.0 MB)\n",
      "Collecting jsonschema>=4.4.0 (from timeeval-gutenTAG==1.4.0)\n",
      "  Using cached jsonschema-4.20.0-py3-none-any.whl.metadata (8.1 kB)\n",
      "Collecting gitdb<5,>=4.0.1 (from gitpython>=3.1.0->timeeval-gutenTAG==1.4.0)\n",
      "  Using cached gitdb-4.0.11-py3-none-any.whl.metadata (1.2 kB)\n",
      "Collecting attrs>=22.2.0 (from jsonschema>=4.4.0->timeeval-gutenTAG==1.4.0)\n",
      "  Using cached attrs-23.2.0-py3-none-any.whl.metadata (9.5 kB)\n",
      "Collecting importlib-resources>=1.4.0 (from jsonschema>=4.4.0->timeeval-gutenTAG==1.4.0)\n",
      "  Using cached importlib_resources-6.1.1-py3-none-any.whl.metadata (4.1 kB)\n",
      "Collecting jsonschema-specifications>=2023.03.6 (from jsonschema>=4.4.0->timeeval-gutenTAG==1.4.0)\n",
      "  Using cached jsonschema_specifications-2023.12.1-py3-none-any.whl.metadata (3.0 kB)\n",
      "Collecting pkgutil-resolve-name>=1.3.10 (from jsonschema>=4.4.0->timeeval-gutenTAG==1.4.0)\n",
      "  Using cached pkgutil_resolve_name-1.3.10-py3-none-any.whl (4.7 kB)\n",
      "Collecting referencing>=0.28.4 (from jsonschema>=4.4.0->timeeval-gutenTAG==1.4.0)\n",
      "  Using cached referencing-0.32.1-py3-none-any.whl.metadata (2.7 kB)\n",
      "Collecting rpds-py>=0.7.1 (from jsonschema>=4.4.0->timeeval-gutenTAG==1.4.0)\n",
      "  Using cached rpds_py-0.16.2-cp38-cp38-macosx_11_0_arm64.whl.metadata (4.1 kB)\n",
      "Collecting contourpy>=1.0.1 (from matplotlib>=3.5.0->timeeval-gutenTAG==1.4.0)\n",
      "  Using cached contourpy-1.1.1-cp38-cp38-macosx_11_0_arm64.whl.metadata (5.9 kB)\n",
      "Collecting cycler>=0.10 (from matplotlib>=3.5.0->timeeval-gutenTAG==1.4.0)\n",
      "  Using cached cycler-0.12.1-py3-none-any.whl.metadata (3.8 kB)\n",
      "Collecting fonttools>=4.22.0 (from matplotlib>=3.5.0->timeeval-gutenTAG==1.4.0)\n",
      "  Using cached fonttools-4.47.0-cp38-cp38-macosx_10_9_universal2.whl.metadata (157 kB)\n",
      "Collecting kiwisolver>=1.0.1 (from matplotlib>=3.5.0->timeeval-gutenTAG==1.4.0)\n",
      "  Using cached kiwisolver-1.4.5-cp38-cp38-macosx_11_0_arm64.whl.metadata (6.4 kB)\n",
      "Requirement already satisfied: packaging>=20.0 in /Users/wadimoughanim/miniconda3/envs/tvl/lib/python3.8/site-packages (from matplotlib>=3.5.0->timeeval-gutenTAG==1.4.0) (23.2)\n",
      "Collecting pillow>=6.2.0 (from matplotlib>=3.5.0->timeeval-gutenTAG==1.4.0)\n",
      "  Using cached pillow-10.2.0-cp38-cp38-macosx_11_0_arm64.whl.metadata (9.7 kB)\n",
      "Collecting pyparsing>=2.3.1 (from matplotlib>=3.5.0->timeeval-gutenTAG==1.4.0)\n",
      "  Using cached pyparsing-3.1.1-py3-none-any.whl.metadata (5.1 kB)\n",
      "Requirement already satisfied: python-dateutil>=2.7 in /Users/wadimoughanim/miniconda3/envs/tvl/lib/python3.8/site-packages (from matplotlib>=3.5.0->timeeval-gutenTAG==1.4.0) (2.8.2)\n",
      "Collecting pytz>=2020.1 (from pandas>=1.3.0->timeeval-gutenTAG==1.4.0)\n",
      "  Using cached pytz-2023.3.post1-py2.py3-none-any.whl.metadata (22 kB)\n",
      "Collecting tzdata>=2022.1 (from pandas>=1.3.0->timeeval-gutenTAG==1.4.0)\n",
      "  Using cached tzdata-2023.4-py2.py3-none-any.whl.metadata (1.4 kB)\n",
      "Collecting threadpoolctl>=2.0.0 (from scikit-learn>=1.0.0->timeeval-gutenTAG==1.4.0)\n",
      "  Using cached threadpoolctl-3.2.0-py3-none-any.whl.metadata (10.0 kB)\n",
      "Collecting smmap<6,>=3.0.1 (from gitdb<5,>=4.0.1->gitpython>=3.1.0->timeeval-gutenTAG==1.4.0)\n",
      "  Using cached smmap-5.0.1-py3-none-any.whl.metadata (4.3 kB)\n",
      "Requirement already satisfied: zipp>=3.1.0 in /Users/wadimoughanim/miniconda3/envs/tvl/lib/python3.8/site-packages (from importlib-resources>=1.4.0->jsonschema>=4.4.0->timeeval-gutenTAG==1.4.0) (3.17.0)\n",
      "Requirement already satisfied: six>=1.5 in /Users/wadimoughanim/miniconda3/envs/tvl/lib/python3.8/site-packages (from python-dateutil>=2.7->matplotlib>=3.5.0->timeeval-gutenTAG==1.4.0) (1.16.0)\n",
      "Using cached GitPython-3.1.40-py3-none-any.whl (190 kB)\n",
      "Using cached joblib-1.3.2-py3-none-any.whl (302 kB)\n",
      "Using cached jsonschema-4.20.0-py3-none-any.whl (84 kB)\n",
      "Using cached matplotlib-3.7.4-cp38-cp38-macosx_11_0_arm64.whl (7.3 MB)\n",
      "Using cached pandas-2.0.3-cp38-cp38-macosx_11_0_arm64.whl (10.7 MB)\n",
      "Using cached scikit_learn-1.3.2-cp38-cp38-macosx_12_0_arm64.whl (9.4 MB)\n",
      "Using cached tqdm-4.66.1-py3-none-any.whl (78 kB)\n",
      "Using cached attrs-23.2.0-py3-none-any.whl (60 kB)\n",
      "Using cached contourpy-1.1.1-cp38-cp38-macosx_11_0_arm64.whl (232 kB)\n",
      "Using cached cycler-0.12.1-py3-none-any.whl (8.3 kB)\n",
      "Using cached fonttools-4.47.0-cp38-cp38-macosx_10_9_universal2.whl (2.8 MB)\n",
      "Using cached gitdb-4.0.11-py3-none-any.whl (62 kB)\n",
      "Using cached importlib_resources-6.1.1-py3-none-any.whl (33 kB)\n",
      "Using cached jsonschema_specifications-2023.12.1-py3-none-any.whl (18 kB)\n",
      "Using cached kiwisolver-1.4.5-cp38-cp38-macosx_11_0_arm64.whl (66 kB)\n",
      "Using cached pillow-10.2.0-cp38-cp38-macosx_11_0_arm64.whl (3.3 MB)\n",
      "Using cached pyparsing-3.1.1-py3-none-any.whl (103 kB)\n",
      "Using cached pytz-2023.3.post1-py2.py3-none-any.whl (502 kB)\n",
      "Using cached referencing-0.32.1-py3-none-any.whl (26 kB)\n",
      "Using cached rpds_py-0.16.2-cp38-cp38-macosx_11_0_arm64.whl (332 kB)\n",
      "Using cached threadpoolctl-3.2.0-py3-none-any.whl (15 kB)\n",
      "Using cached tzdata-2023.4-py2.py3-none-any.whl (346 kB)\n",
      "Using cached smmap-5.0.1-py3-none-any.whl (24 kB)\n",
      "Installing collected packages: pytz, tzdata, tqdm, threadpoolctl, smmap, scipy, rpds-py, pyparsing, pkgutil-resolve-name, pillow, kiwisolver, joblib, importlib-resources, fonttools, cycler, contourpy, attrs, scikit-learn, referencing, pandas, matplotlib, gitdb, neurokit2, jsonschema-specifications, gitpython, jsonschema, timeeval-gutenTAG\n",
      "  Running setup.py develop for timeeval-gutenTAG\n",
      "Successfully installed attrs-23.2.0 contourpy-1.1.1 cycler-0.12.1 fonttools-4.47.0 gitdb-4.0.11 gitpython-3.1.40 importlib-resources-6.1.1 joblib-1.3.2 jsonschema-4.20.0 jsonschema-specifications-2023.12.1 kiwisolver-1.4.5 matplotlib-3.7.4 neurokit2-0.1.2 pandas-2.0.3 pillow-10.2.0 pkgutil-resolve-name-1.3.10 pyparsing-3.1.1 pytz-2023.3.post1 referencing-0.32.1 rpds-py-0.16.2 scikit-learn-1.3.2 scipy-1.10.1 smmap-5.0.1 threadpoolctl-3.2.0 timeeval-gutenTAG-1.4.0 tqdm-4.66.1 tzdata-2023.4\n",
      "Note: you may need to restart the kernel to use updated packages.\n"
     ]
    }
   ],
   "source": [
    "pip install -e ."
   ]
  },
  {
   "cell_type": "markdown",
   "metadata": {},
   "source": [
    "quick check"
   ]
  },
  {
   "cell_type": "code",
   "execution_count": 15,
   "metadata": {},
   "outputs": [
    {
     "name": "stdout",
     "output_type": "stream",
     "text": [
      "timeeval-gutenTAG         1.4.0        /Users/wadimoughanim/Documents/education/Master_MVA/last_mlts_proj/GutenTAG\n",
      "Note: you may need to restart the kernel to use updated packages.\n"
     ]
    }
   ],
   "source": [
    "pip list | grep -i guten "
   ]
  },
  {
   "cell_type": "code",
   "execution_count": null,
   "metadata": {},
   "outputs": [],
   "source": []
  }
 ],
 "metadata": {
  "kernelspec": {
   "display_name": "tvl",
   "language": "python",
   "name": "python3"
  },
  "language_info": {
   "codemirror_mode": {
    "name": "ipython",
    "version": 3
   },
   "file_extension": ".py",
   "mimetype": "text/x-python",
   "name": "python",
   "nbconvert_exporter": "python",
   "pygments_lexer": "ipython3",
   "version": "3.8.18"
  }
 },
 "nbformat": 4,
 "nbformat_minor": 2
}
